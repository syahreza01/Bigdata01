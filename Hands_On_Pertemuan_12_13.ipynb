{
 "cells": [
  {
   "cell_type": "markdown",
   "id": "9e95332f",
   "metadata": {},
   "source": [
    "# Hands-On Pertemuan 12 and 13: Data Cleaning, Preparation, and Visualization"
   ]
  },
  {
   "cell_type": "markdown",
   "id": "c6a6f4ed",
   "metadata": {},
   "source": [
    "## Objectives:\n",
    "- **Pertemuan 12**: Master data cleaning and preparation techniques using Pandas.\n",
    "- **Pertemuan 13**: Develop skills in data visualization using Matplotlib and Seaborn for effective data analysis.\n"
   ]
  },
  {
   "cell_type": "markdown",
   "id": "423279e7",
   "metadata": {},
   "source": [
    "## Pertemuan 12: Data Cleaning and Preparation using Pandas"
   ]
  },
  {
   "cell_type": "markdown",
   "id": "717d917f",
   "metadata": {},
   "source": [
    "### Topics Covered\n",
    "- Identifying and handling missing data.\n",
    "- Data transformation and normalization.\n",
    "- Data filtering and deduplication.\n",
    "- Standardization of categorical data.\n",
    "- Outlier detection and handling.\n"
   ]
  },
  {
   "cell_type": "code",
   "execution_count": null,
   "id": "10266acc",
   "metadata": {},
   "outputs": [],
   "source": [
    "# Exercise 1: Identifying and Handling Missing Data\n",
    "import pandas as pd\n",
    "\n",
    "# Sample dataset with missing values\n",
    "data = {\n",
    "    'Name': ['Alice', 'Bob', 'Charlie', 'David', None],\n",
    "    'Age': [24, 30, None, 22, 35],\n",
    "    'Salary': [48000, None, 57000, None, 60000]\n",
    "}\n",
    "df = pd.DataFrame(data)\n",
    "\n",
    "# Filling missing values and dropping rows\n",
    "df['Age'].fillna(df['Age'].mean(), inplace=True)\n",
    "df['Salary'].fillna(df['Salary'].median(), inplace=True)\n",
    "df.dropna(subset=['Name'], inplace=True)\n",
    "print('After cleaning:\\n', df)\n"
   ]
  },
  {
   "cell_type": "code",
   "execution_count": null,
   "id": "fcf68022",
   "metadata": {},
   "outputs": [],
   "source": [
    "# Exercise 2: Standardizing Categorical Data\n",
    "# Sample dataset with inconsistent categorical values\n",
    "data = {\n",
    "    'Product': ['Laptop', 'Laptop', 'Desktop', 'Tablet', 'Tablet'],\n",
    "    'Category': ['Electronics', 'electronics', 'Electronics', 'Gadgets', 'gadgets']\n",
    "}\n",
    "df = pd.DataFrame(data)\n",
    "\n",
    "# Standardize category values\n",
    "df['Category'] = df['Category'].str.capitalize()\n",
    "print('Standardized Data:\\n', df)\n"
   ]
  },
  {
   "cell_type": "markdown",
   "id": "b237c9ec",
   "metadata": {},
   "source": [
    "### Practice Tasks\n",
    "- Load a dataset of your choice and identify missing values.\n",
    "- Implement data transformations to normalize numerical columns.\n",
    "- Standardize categorical columns and remove duplicates.\n"
   ]
  },
  {
   "cell_type": "markdown",
   "id": "f9ea63bf",
   "metadata": {},
   "source": [
    "## Pertemuan 13: Data Visualization using Matplotlib and Seaborn"
   ]
  },
  {
   "cell_type": "markdown",
   "id": "e3c45374",
   "metadata": {},
   "source": [
    "### Topics Covered\n",
    "- Plotting data distributions and comparisons.\n",
    "- Creating time series visualizations.\n",
    "- Visualizing relationships between variables.\n",
    "- Customizing plot styles and layouts.\n"
   ]
  },
  {
   "cell_type": "code",
   "execution_count": null,
   "id": "37b534ba",
   "metadata": {},
   "outputs": [],
   "source": [
    "# Exercise 1: Basic Plotting with Matplotlib\n",
    "import matplotlib.pyplot as plt\n",
    "\n",
    "# Data for plotting\n",
    "categories = ['Category A', 'Category B', 'Category C']\n",
    "values = [23, 17, 35]\n",
    "\n",
    "# Plot\n",
    "plt.figure(figsize=(8, 5))\n",
    "plt.bar(categories, values, color='cyan')\n",
    "plt.xlabel('Categories')\n",
    "plt.ylabel('Values')\n",
    "plt.title('Bar Chart of Categories')\n",
    "plt.show()\n"
   ]
  },
  {
   "cell_type": "code",
   "execution_count": null,
   "id": "beb842ca",
   "metadata": {},
   "outputs": [],
   "source": [
    "# Exercise 2: Seaborn for Relationship Visualization\n",
    "import seaborn as sns\n",
    "import pandas as pd\n",
    "\n",
    "# Sample data\n",
    "data = {\n",
    "    'Hours Studied': [1, 2, 3, 4, 5, 6, 7, 8, 9, 10],\n",
    "    'Scores': [35, 45, 48, 52, 57, 60, 63, 68, 72, 78]\n",
    "}\n",
    "df = pd.DataFrame(data)\n",
    "\n",
    "# Plot\n",
    "sns.regplot(x='Hours Studied', y='Scores', data=df)\n",
    "plt.title('Relationship between Hours Studied and Scores')\n",
    "plt.show()\n"
   ]
  },
  {
   "cell_type": "markdown",
   "id": "770a52e0",
   "metadata": {},
   "source": [
    "### Practice Tasks\n",
    "- Use Matplotlib to create a multi-bar chart to compare data across groups.\n",
    "- Generate scatter plots with Seaborn to explore relationships between variables in a dataset.\n",
    "- Customize plot layouts and color schemes.\n"
   ]
  },
  {
   "cell_type": "markdown",
   "id": "66d8f5b9",
   "metadata": {},
   "source": [
    "## Homework for Students\n",
    "- **Pertemuan 12**: Clean a real-world dataset (from Kaggle or another source), perform normalization, handle outliers, and prepare the data for analysis.\n",
    "- **Pertemuan 13**: Create a dashboard with multiple visualizations to summarize a dataset of your choice.\n"
   ]
  }
 ],
 "metadata": {
  "language_info": {
   "name": "python"
  }
 },
 "nbformat": 4,
 "nbformat_minor": 5
}
